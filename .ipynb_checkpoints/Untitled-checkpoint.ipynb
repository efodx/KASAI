{
 "cells": [
  {
   "cell_type": "code",
   "execution_count": 1,
   "metadata": {
    "collapsed": true
   },
   "outputs": [],
   "source": [
    "import pandas as pd\n",
    "import numpy as np\n",
    "pd.options.display.max_rows = 100\n",
    "tekme = pd.read_csv('csv_Noriaki')\n",
    "skoki = pd.read_csv('csv_Skoki')\n",
    "pd.options.mode.chained_assignment = None  # default='warn'"
   ]
  },
  {
   "cell_type": "code",
   "execution_count": 2,
   "metadata": {
    "collapsed": false,
    "scrolled": false
   },
   "outputs": [
    {
     "name": "stdout",
     "output_type": "stream",
     "text": [
      "Using matplotlib backend: Qt4Agg\n"
     ]
    }
   ],
   "source": [
    "%matplotlib"
   ]
  },
  {
   "cell_type": "markdown",
   "metadata": {},
   "source": [
    "## Analiza"
   ]
  },
  {
   "cell_type": "markdown",
   "metadata": {},
   "source": [
    "Za analizo kariere Noriakija Kasaija sem zbral naslednje podatke o tekmah: kategorija, datum, uvrstitev, drzava, mesto, disciplina, dožino prvega ter drugega skoka. Ogledali si bomo kako uspešen je bil Kasai skozi leta, in ali je pritisk pred drugim skokom skozi leta in z izkušnjami manjši, ali večji."
   ]
  },
  {
   "cell_type": "markdown",
   "metadata": {},
   "source": [
    "Poglejmo si najprej število vseh zmag."
   ]
  },
  {
   "cell_type": "code",
   "execution_count": 3,
   "metadata": {
    "collapsed": false
   },
   "outputs": [
    {
     "data": {
      "text/plain": [
       "31"
      ]
     },
     "execution_count": 3,
     "metadata": {},
     "output_type": "execute_result"
    }
   ],
   "source": [
    "len(tekme[tekme.uvrstitev==1])"
   ]
  },
  {
   "cell_type": "markdown",
   "metadata": {},
   "source": [
    "Število zmag na svetovnem pokalu."
   ]
  },
  {
   "cell_type": "code",
   "execution_count": 4,
   "metadata": {
    "collapsed": false
   },
   "outputs": [
    {
     "data": {
      "text/plain": [
       "20"
      ]
     },
     "execution_count": 4,
     "metadata": {},
     "output_type": "execute_result"
    }
   ],
   "source": [
    "len(tekme[(tekme.kategorija=='World Cup') & (tekme.uvrstitev==1)])"
   ]
  },
  {
   "cell_type": "markdown",
   "metadata": {},
   "source": [
    "Število zmag na svetovnem prvenstvu."
   ]
  },
  {
   "cell_type": "code",
   "execution_count": 5,
   "metadata": {
    "collapsed": false
   },
   "outputs": [
    {
     "data": {
      "text/plain": [
       "0"
      ]
     },
     "execution_count": 5,
     "metadata": {},
     "output_type": "execute_result"
    }
   ],
   "source": [
    "len(tekme[(tekme.kategorija=='World Ski Championships') & (tekme.uvrstitev==1)])"
   ]
  },
  {
   "cell_type": "markdown",
   "metadata": {},
   "source": [
    "Ker nam samo število zmag ne pomeni kaj dosti, rabimo tudi število tekem na katerih je Kasai sodeloval.\n",
    "Število vseh tekem, tekem svetovnega pokala in tekem svetovnega prvenstva"
   ]
  },
  {
   "cell_type": "code",
   "execution_count": 6,
   "metadata": {
    "collapsed": false
   },
   "outputs": [
    {
     "name": "stdout",
     "output_type": "stream",
     "text": [
      "790\n",
      "527\n",
      "36\n"
     ]
    }
   ],
   "source": [
    "print(len(tekme))\n",
    "print(len(tekme[tekme.kategorija=='World Cup']))\n",
    "print(len(tekme[tekme.kategorija=='World Ski Championships']))"
   ]
  },
  {
   "cell_type": "markdown",
   "metadata": {},
   "source": [
    "Veliko bolj impresivno kot število zmag, je pri Kasaiu število vseh tekem, saj skače že več kot 20 let. Poglejmo zato raje, katera leta je bil najbolj uspešen."
   ]
  },
  {
   "cell_type": "code",
   "execution_count": 7,
   "metadata": {
    "collapsed": false
   },
   "outputs": [],
   "source": [
    "leto = lambda x : x[-4:]\n",
    "tekme['leto']=tekme['datum'].apply(leto)"
   ]
  },
  {
   "cell_type": "code",
   "execution_count": 9,
   "metadata": {
    "collapsed": false
   },
   "outputs": [
    {
     "name": "stdout",
     "output_type": "stream",
     "text": [
      "leto\n",
      "2014    6.911765\n",
      "1999    7.593750\n",
      "2016    7.714286\n",
      "2015    7.813953\n",
      "1993    8.850000\n",
      "Name: uvrstitev, dtype: float64\n"
     ]
    },
    {
     "data": {
      "text/plain": [
       "<matplotlib.axes._subplots.AxesSubplot at 0xfbe8c08e80>"
      ]
     },
     "execution_count": 9,
     "metadata": {},
     "output_type": "execute_result"
    }
   ],
   "source": [
    "tekme_po_letih = tekme.groupby('leto')\n",
    "print(tekme_po_letih['uvrstitev'].mean().sort_values().head(5))\n",
    "tekme_po_letih['uvrstitev'].mean().plot()"
   ]
  },
  {
   "cell_type": "markdown",
   "metadata": {},
   "source": [
    "Čeprav Kasai skače že zelo dolgo, izgleda da se njegova kariera še ne bliža koncu, saj so zadnja 3 leta ena izmed njegovih najboljših. Poglejmo še katera leta je dosegel največ zmag v svetovnem pokalu."
   ]
  },
  {
   "cell_type": "code",
   "execution_count": 10,
   "metadata": {
    "collapsed": true
   },
   "outputs": [],
   "source": [
    "zmage = tekme[(tekme['uvrstitev']==1) & (tekme['kategorija']=='World Cup')]"
   ]
  },
  {
   "cell_type": "code",
   "execution_count": 11,
   "metadata": {
    "collapsed": false
   },
   "outputs": [],
   "source": [
    "zmage_po_letih =zmage.groupby('leto')"
   ]
  },
  {
   "cell_type": "code",
   "execution_count": 12,
   "metadata": {
    "collapsed": false
   },
   "outputs": [
    {
     "name": "stdout",
     "output_type": "stream",
     "text": [
      "leto\n",
      "1999    7\n",
      "1993    4\n",
      "2014    2\n",
      "2001    2\n",
      "2004    1\n",
      "2003    1\n",
      "1998    1\n",
      "1994    1\n",
      "1992    1\n",
      "dtype: int64\n"
     ]
    },
    {
     "data": {
      "text/plain": [
       "<matplotlib.axes._subplots.AxesSubplot at 0xfbe8c129e8>"
      ]
     },
     "execution_count": 12,
     "metadata": {},
     "output_type": "execute_result"
    }
   ],
   "source": [
    "print(zmage_po_letih.size().sort_values(ascending=False))\n",
    "zmage_po_letih.size().plot(kind='area')"
   ]
  },
  {
   "cell_type": "markdown",
   "metadata": {},
   "source": [
    "Tudi če mu gre zadnja leta odlično, so njegova \"zlata\" leta mimo, poglejmo še kako je s srebrnimi in bronastimi."
   ]
  },
  {
   "cell_type": "code",
   "execution_count": 13,
   "metadata": {
    "collapsed": true
   },
   "outputs": [],
   "source": [
    "drugo = tekme[(tekme['uvrstitev']==2) & (tekme['kategorija']=='World Cup')]\n",
    "tretje = tekme[(tekme['uvrstitev']==3) & (tekme['kategorija']=='World Cup')]"
   ]
  },
  {
   "cell_type": "code",
   "execution_count": 14,
   "metadata": {
    "collapsed": false
   },
   "outputs": [],
   "source": [
    "drugo_po_letih = drugo.groupby('leto')\n",
    "tretje_po_letih = tretje.groupby('leto')"
   ]
  },
  {
   "cell_type": "code",
   "execution_count": 18,
   "metadata": {
    "collapsed": false
   },
   "outputs": [
    {
     "name": "stdout",
     "output_type": "stream",
     "text": [
      "leto\n",
      "2015    2\n",
      "2000    2\n",
      "1998    2\n",
      "1994    2\n",
      "2014    1\n",
      "dtype: int64\n",
      "leto\n",
      "2016    6\n",
      "2014    5\n",
      "1999    5\n",
      "2015    4\n",
      "1998    3\n",
      "dtype: int64\n"
     ]
    }
   ],
   "source": [
    "print(drugo_po_letih.size().sort_values(ascending=False).head(5))\n",
    "print(tretje_po_letih.size().sort_values(ascending=False).head(5))"
   ]
  },
  {
   "cell_type": "markdown",
   "metadata": {},
   "source": [
    "Opazimo da, tudi če zadnja leta ne zmaguje, se vseeno drži stopničk. Pa se prepričajmo."
   ]
  },
  {
   "cell_type": "code",
   "execution_count": 19,
   "metadata": {
    "collapsed": true
   },
   "outputs": [],
   "source": [
    "stopnicke = tekme[(tekme['uvrstitev']<4) & (tekme['kategorija']=='World Cup')]"
   ]
  },
  {
   "cell_type": "code",
   "execution_count": 20,
   "metadata": {
    "collapsed": false
   },
   "outputs": [
    {
     "name": "stdout",
     "output_type": "stream",
     "text": [
      "leto\n",
      "1999    12\n",
      "2014     8\n",
      "1993     7\n",
      "2016     6\n",
      "2015     6\n",
      "dtype: int64\n"
     ]
    },
    {
     "data": {
      "text/plain": [
       "<matplotlib.axes._subplots.AxesSubplot at 0xfbe888a208>"
      ]
     },
     "execution_count": 20,
     "metadata": {},
     "output_type": "execute_result"
    }
   ],
   "source": [
    "stopnicke_po_letih = stopnicke.groupby('leto')\n",
    "print(stopnicke_po_letih.size().sort_values(ascending=False).head(5))\n",
    "stopnicke_po_letih.size().sort_values(ascending=False).plot(kind='area')"
   ]
  },
  {
   "cell_type": "markdown",
   "metadata": {},
   "source": [
    "Res je. Sedaj vemo katera leta je bil Kasai najbolj uspešen, poglejmo si še, katera disciplina in katera skakalnica mu najbolj ustrezata."
   ]
  },
  {
   "cell_type": "code",
   "execution_count": 21,
   "metadata": {
    "collapsed": false
   },
   "outputs": [
    {
     "name": "stdout",
     "output_type": "stream",
     "text": [
      "Število Zmag\n",
      "disciplina\n",
      "Large Hill    6\n",
      "K180          3\n",
      "K120          3\n",
      "K115          3\n",
      "HS142         2\n",
      "dtype: int64\n",
      "Število stopničk\n",
      "disciplina\n",
      "K120          15\n",
      "Large Hill    15\n",
      "HS134          7\n",
      "K115           7\n",
      "HS131          7\n",
      "dtype: int64\n"
     ]
    }
   ],
   "source": [
    "st_tekem_disc = tekme.groupby('disciplina')\n",
    "vec_kot10 = st_tekem_disc.filter(lambda x:len(x)>9)\n",
    "vec_kot10zmage = vec_kot10[vec_kot10['uvrstitev']==1]\n",
    "vec_kot10stop = vec_kot10[vec_kot10['uvrstitev']<4]\n",
    "print(\"Število Zmag\")\n",
    "print(vec_kot10zmage.groupby('disciplina').size().sort_values(ascending=False).head(5))\n",
    "print(\"Število stopničk\")\n",
    "print(vec_kot10stop.groupby('disciplina').size().sort_values(ascending=False).head(5))"
   ]
  },
  {
   "cell_type": "markdown",
   "metadata": {},
   "source": [
    "Kot je bilo za pričakovati, Kasaiu najbolj ustrezajo letalnice, je pa izjemno dober tudi na skakalnicah tipa K120."
   ]
  },
  {
   "cell_type": "code",
   "execution_count": 22,
   "metadata": {
    "collapsed": false
   },
   "outputs": [],
   "source": [
    "st_tekem_skak = tekme.groupby(['disciplina','mesto'], as_index=False)\n",
    "vec_kot5 = st_tekem_skak.filter(lambda x: len(x)>5)"
   ]
  },
  {
   "cell_type": "code",
   "execution_count": 23,
   "metadata": {
    "collapsed": false
   },
   "outputs": [
    {
     "name": "stdout",
     "output_type": "stream",
     "text": [
      "Povprečna uvrstitev\n",
      "    disciplina      mesto  uvrstitev\n",
      "40  Team HS145  Willingen   5.285714\n",
      "39  Team HS130      Lahti   5.285714\n",
      "32        K120    Sapporo   8.428571\n",
      "6        HS131     Hakuba   9.280000\n",
      "25       HS225  Vikersund   9.750000\n"
     ]
    }
   ],
   "source": [
    "st_vec_kot5=vec_kot5.groupby(['disciplina','mesto'], as_index=False)\n",
    "print(\"Povprečna uvrstitev\")\n",
    "print(st_vec_kot5['uvrstitev'].mean().sort_values(by='uvrstitev').sort_values(by='uvrstitev').head(5))\n"
   ]
  },
  {
   "cell_type": "code",
   "execution_count": 24,
   "metadata": {
    "collapsed": false
   },
   "outputs": [
    {
     "name": "stdout",
     "output_type": "stream",
     "text": [
      "Število stopničk\n",
      "disciplina  mesto                 \n",
      "HS131       Hakuba                    7\n",
      "K120        Innsbruck                 4\n",
      "K115        Garmisch-Partenkirchen    3\n",
      "            Oberstdorf                3\n",
      "HS134       Sapporo                   3\n",
      "dtype: int64\n"
     ]
    }
   ],
   "source": [
    "tekme_stopnicke= tekme[tekme['uvrstitev']<4]\n",
    "stopnicke_disc_mest = tekme_stopnicke.groupby(['disciplina','mesto'], as_index=False)\n",
    "print(\"Število stopničk\")\n",
    "print(stopnicke_disc_mest['uvrstitev'].size().sort_values(ascending=False).head(5))\n"
   ]
  },
  {
   "cell_type": "markdown",
   "metadata": {},
   "source": [
    "Čeprav je iz prejšnjih rezultatov izgledalo, da Kasaiu najbolj ležijo letalnice, mu zelo ustreza skakalnica Hakuba HS131.\n",
    "\n",
    "Opomba:iz retultatov za povprečno uvrstitev, sem pobrisal tiste, ki so bili za skakalnice na katerih je skakal manj kot petkrat.\n",
    "\n",
    "Oglejmo si sedaj ali se je razmerje med dolžino drugega in prvega skoka višalo.\n"
   ]
  },
  {
   "cell_type": "code",
   "execution_count": 25,
   "metadata": {
    "collapsed": false
   },
   "outputs": [],
   "source": [
    "skoki\n",
    "skokinan=skoki.groupby('drugi_skok')\n",
    "skoki_razmerje = skoki[skoki.drugi_skok.notnull()]"
   ]
  },
  {
   "cell_type": "code",
   "execution_count": 26,
   "metadata": {
    "collapsed": false
   },
   "outputs": [],
   "source": [
    "skoki_razmerje['razmerje'] = skoki_razmerje['drugi_skok']/skoki_razmerje['prvi_skok']"
   ]
  },
  {
   "cell_type": "code",
   "execution_count": 27,
   "metadata": {
    "collapsed": false
   },
   "outputs": [],
   "source": [
    "raz_skok_let = pd.merge(skoki_razmerje,tekme)\n",
    "raz_skok_let['leto'] = raz_skok_let['datum'].apply(leto)"
   ]
  },
  {
   "cell_type": "code",
   "execution_count": 29,
   "metadata": {
    "collapsed": false
   },
   "outputs": [
    {
     "data": {
      "text/plain": [
       "<matplotlib.axes._subplots.AxesSubplot at 0xfbe9337f98>"
      ]
     },
     "execution_count": 29,
     "metadata": {},
     "output_type": "execute_result"
    }
   ],
   "source": [
    "raz_skok_let.groupby('leto')['razmerje'].mean().plot()"
   ]
  },
  {
   "cell_type": "markdown",
   "metadata": {
    "collapsed": true
   },
   "source": [
    "Videti je, da Kasaijeve izkušnje niso ravno pripomogle pri tremi pred drugim skokom. Je pa res, da so se z leti spreminjala pravila in da se med skoki menjuje višina zaletišča ter vetrovne razmere, tako da je najbrž da premalo podatkov da bi lahko analizi popolnoma zaupali."
   ]
  },
  {
   "cell_type": "markdown",
   "metadata": {},
   "source": [
    "## Zaključek"
   ]
  },
  {
   "cell_type": "markdown",
   "metadata": {},
   "source": [
    "Noriaki Kasai je izjemen skakalec, saj se že več kot 20 let drži med najboljšimi skakalci na svetu. Noriaki Kasai je Yoda smučarskih skokov."
   ]
  }
 ],
 "metadata": {
  "anaconda-cloud": {},
  "kernelspec": {
   "display_name": "Python [Root]",
   "language": "python",
   "name": "Python [Root]"
  },
  "language_info": {
   "codemirror_mode": {
    "name": "ipython",
    "version": 3
   },
   "file_extension": ".py",
   "mimetype": "text/x-python",
   "name": "python",
   "nbconvert_exporter": "python",
   "pygments_lexer": "ipython3",
   "version": "3.5.2"
  }
 },
 "nbformat": 4,
 "nbformat_minor": 0
}
