{
 "cells": [
  {
   "cell_type": "code",
   "execution_count": 44,
   "metadata": {
    "collapsed": true
   },
   "outputs": [],
   "source": [
    "import pandas as pd\n",
    "import numpy as np\n",
    "pd.options.display.max_rows = 100\n",
    "tekme = pd.read_csv('csv_Noriaki')\n",
    "skoki = pd.read_csv('csv_Skoki')\n",
    "pd.options.mode.chained_assignment = None  # default='warn'"
   ]
  },
  {
   "cell_type": "code",
   "execution_count": 45,
   "metadata": {
    "collapsed": false,
    "scrolled": false
   },
   "outputs": [
    {
     "name": "stdout",
     "output_type": "stream",
     "text": [
      "Using matplotlib backend: Qt4Agg\n"
     ]
    }
   ],
   "source": [
    "%matplotlib"
   ]
  },
  {
   "cell_type": "markdown",
   "metadata": {},
   "source": [
    "## Analiza"
   ]
  },
  {
   "cell_type": "markdown",
   "metadata": {},
   "source": [
    "Število vseh zmag"
   ]
  },
  {
   "cell_type": "code",
   "execution_count": 46,
   "metadata": {
    "collapsed": false
   },
   "outputs": [
    {
     "data": {
      "text/plain": [
       "31"
      ]
     },
     "execution_count": 46,
     "metadata": {},
     "output_type": "execute_result"
    }
   ],
   "source": [
    "len(tekme[tekme.uvrstitev==1])"
   ]
  },
  {
   "cell_type": "markdown",
   "metadata": {},
   "source": [
    "Število zmag na svetovnem pokalu"
   ]
  },
  {
   "cell_type": "code",
   "execution_count": 47,
   "metadata": {
    "collapsed": false
   },
   "outputs": [
    {
     "data": {
      "text/plain": [
       "20"
      ]
     },
     "execution_count": 47,
     "metadata": {},
     "output_type": "execute_result"
    }
   ],
   "source": [
    "len(tekme[(tekme.kategorija=='World Cup') & (tekme.uvrstitev==1)])"
   ]
  },
  {
   "cell_type": "markdown",
   "metadata": {},
   "source": [
    "Število zmag na svetovnem prvenstvu"
   ]
  },
  {
   "cell_type": "code",
   "execution_count": 48,
   "metadata": {
    "collapsed": false
   },
   "outputs": [
    {
     "data": {
      "text/plain": [
       "0"
      ]
     },
     "execution_count": 48,
     "metadata": {},
     "output_type": "execute_result"
    }
   ],
   "source": [
    "len(tekme[(tekme.kategorija=='World Ski Championships') & (tekme.uvrstitev==1)])"
   ]
  },
  {
   "cell_type": "markdown",
   "metadata": {},
   "source": [
    "Ker nam samo število zmag ne pomeni kaj dosti, rabimo tudi število tekem na katerih je Kasai sodeloval.\n",
    "Število vseh tekem, tekem svetovnega pokala in tekem svetovnega prvenstva"
   ]
  },
  {
   "cell_type": "code",
   "execution_count": 49,
   "metadata": {
    "collapsed": false
   },
   "outputs": [
    {
     "name": "stdout",
     "output_type": "stream",
     "text": [
      "790\n",
      "527\n",
      "36\n"
     ]
    }
   ],
   "source": [
    "print(len(tekme))\n",
    "print(len(tekme[tekme.kategorija=='World Cup']))\n",
    "print(len(tekme[tekme.kategorija=='World Ski Championships']))"
   ]
  },
  {
   "cell_type": "markdown",
   "metadata": {},
   "source": [
    "Veliko bolj impresivno kot število zmag, je pri Kasaiu število vseh tekem, saj skače že več kot 20 let. Poglejmo zato raje, katera leta je bil najbolj uspešen."
   ]
  },
  {
   "cell_type": "code",
   "execution_count": 50,
   "metadata": {
    "collapsed": false
   },
   "outputs": [],
   "source": [
    "leto = lambda x : x[-4:]\n",
    "tekme['leto']=tekme['datum'].apply(leto)"
   ]
  },
  {
   "cell_type": "code",
   "execution_count": 51,
   "metadata": {
    "collapsed": false
   },
   "outputs": [
    {
     "name": "stdout",
     "output_type": "stream",
     "text": [
      "leto\n",
      "2014    6.911765\n",
      "1999    7.593750\n",
      "2016    7.714286\n",
      "2015    7.813953\n",
      "1993    8.850000\n",
      "Name: uvrstitev, dtype: float64\n"
     ]
    },
    {
     "data": {
      "text/plain": [
       "<matplotlib.axes._subplots.AxesSubplot at 0xb67f1d6748>"
      ]
     },
     "execution_count": 51,
     "metadata": {},
     "output_type": "execute_result"
    }
   ],
   "source": [
    "tekme_po_letih = tekme.groupby('leto')\n",
    "print(tekme_po_letih['uvrstitev'].mean().sort_values().head(5))\n",
    "tekme_po_letih['uvrstitev'].mean().plot()"
   ]
  },
  {
   "cell_type": "markdown",
   "metadata": {},
   "source": [
    "Čeprav Kasai skače že zelo dolgo, izgleda da se njegova kariera še ne bliža koncu, saj so zadnja 3 leta ena izmed njegovih najboljših. Poglejmo še katera leta je dosegel največ zmag v svetovnem pokalu."
   ]
  },
  {
   "cell_type": "code",
   "execution_count": 52,
   "metadata": {
    "collapsed": true
   },
   "outputs": [],
   "source": [
    "zmage = tekme[(tekme['uvrstitev']==1) & (tekme['kategorija']=='World Cup')]"
   ]
  },
  {
   "cell_type": "code",
   "execution_count": 53,
   "metadata": {
    "collapsed": false
   },
   "outputs": [],
   "source": [
    "zmage_po_letih =zmage.groupby('leto')"
   ]
  },
  {
   "cell_type": "code",
   "execution_count": 54,
   "metadata": {
    "collapsed": false
   },
   "outputs": [
    {
     "name": "stdout",
     "output_type": "stream",
     "text": [
      "leto\n",
      "1999    7\n",
      "1993    4\n",
      "2014    2\n",
      "2001    2\n",
      "2004    1\n",
      "2003    1\n",
      "1998    1\n",
      "1994    1\n",
      "1992    1\n",
      "dtype: int64\n"
     ]
    },
    {
     "data": {
      "text/plain": [
       "<matplotlib.axes._subplots.AxesSubplot at 0xb67f1de4e0>"
      ]
     },
     "execution_count": 54,
     "metadata": {},
     "output_type": "execute_result"
    }
   ],
   "source": [
    "print(zmage_po_letih.size().sort_values(ascending=False))\n",
    "zmage_po_letih.size().plot(kind='area')"
   ]
  },
  {
   "cell_type": "markdown",
   "metadata": {},
   "source": [
    "Tudi če mu gre zadnja leta odlično, so njegova \"zlata\" leta mimo, poglejmo še kako je s srebrnimi in bronastimi."
   ]
  },
  {
   "cell_type": "code",
   "execution_count": 55,
   "metadata": {
    "collapsed": true
   },
   "outputs": [],
   "source": [
    "drugo = tekme[(tekme['uvrstitev']==2) & (tekme['kategorija']=='World Cup')]\n",
    "tretje = tekme[(tekme['uvrstitev']==3) & (tekme['kategorija']=='World Cup')]"
   ]
  },
  {
   "cell_type": "code",
   "execution_count": 56,
   "metadata": {
    "collapsed": false
   },
   "outputs": [],
   "source": [
    "drugo_po_letih = drugo.groupby('leto')\n",
    "tretje_po_letih = tretje.groupby('leto')"
   ]
  },
  {
   "cell_type": "code",
   "execution_count": 57,
   "metadata": {
    "collapsed": false
   },
   "outputs": [
    {
     "name": "stdout",
     "output_type": "stream",
     "text": [
      "leto\n",
      "2015    2\n",
      "2000    2\n",
      "1998    2\n",
      "1994    2\n",
      "2014    1\n",
      "dtype: int64\n",
      "leto\n",
      "2016    6\n",
      "2014    5\n",
      "1999    5\n",
      "2015    4\n",
      "1998    3\n",
      "dtype: int64\n"
     ]
    }
   ],
   "source": [
    "print(drugo_po_letih.size().sort_values(ascending=False).head(5))\n",
    "print(tretje_po_letih.size().sort_values(ascending=False).head(5))"
   ]
  },
  {
   "cell_type": "markdown",
   "metadata": {},
   "source": [
    "Opazimo da, tudi če zadnja leta ne zmaguje, se vseeno drži stopničk. Pa se prepričajmo."
   ]
  },
  {
   "cell_type": "code",
   "execution_count": 58,
   "metadata": {
    "collapsed": true
   },
   "outputs": [],
   "source": [
    "stopnicke = tekme[(tekme['uvrstitev']<4) & (tekme['kategorija']=='World Cup')]"
   ]
  },
  {
   "cell_type": "code",
   "execution_count": 59,
   "metadata": {
    "collapsed": false
   },
   "outputs": [
    {
     "name": "stdout",
     "output_type": "stream",
     "text": [
      "leto\n",
      "1999    12\n",
      "2014     8\n",
      "1993     7\n",
      "2016     6\n",
      "2015     6\n",
      "dtype: int64\n"
     ]
    },
    {
     "data": {
      "text/plain": [
       "<matplotlib.axes._subplots.AxesSubplot at 0xb67f240710>"
      ]
     },
     "execution_count": 59,
     "metadata": {},
     "output_type": "execute_result"
    }
   ],
   "source": [
    "stopnicke_po_letih = stopnicke.groupby('leto')\n",
    "print(stopnicke_po_letih.size().sort_values(ascending=False).head(5))\n",
    "stopnicke_po_letih.size().sort_values(ascending=False).plot(kind='area')"
   ]
  },
  {
   "cell_type": "markdown",
   "metadata": {},
   "source": [
    "Res je. Sedaj vemo katera leta je bil Kasai najbolj uspešen, poglejmo si še, katera disciplina in katera skakalnica mu najbolj ustrezata."
   ]
  },
  {
   "cell_type": "code",
   "execution_count": 61,
   "metadata": {
    "collapsed": false
   },
   "outputs": [
    {
     "name": "stdout",
     "output_type": "stream",
     "text": [
      "Število Zmag\n",
      "disciplina\n",
      "Large Hill    6\n",
      "K180          3\n",
      "K120          3\n",
      "K115          3\n",
      "HS142         2\n",
      "dtype: int64\n",
      "Število stopničk\n",
      "disciplina\n",
      "K120          15\n",
      "Large Hill    15\n",
      "HS134          7\n",
      "K115           7\n",
      "HS131          7\n",
      "dtype: int64\n"
     ]
    }
   ],
   "source": [
    "st_tekem_disc = tekme.groupby('disciplina')\n",
    "vec_kot10 = st_tekem_disc.filter(lambda x:len(x)>9)\n",
    "vec_kot10zmage = vec_kot10[vec_kot10['uvrstitev']==1]\n",
    "vec_kot10stop = vec_kot10[vec_kot10['uvrstitev']<4]\n",
    "print(\"Število Zmag\")\n",
    "print(vec_kot10zmage.groupby('disciplina').size().sort_values(ascending=False).head(5))\n",
    "print(\"Število stopničk\")\n",
    "print(vec_kot10stop.groupby('disciplina').size().sort_values(ascending=False).head(5))"
   ]
  },
  {
   "cell_type": "markdown",
   "metadata": {},
   "source": [
    "Kot je bilo za pričakovati, Kasaiu najbolj ustrezajo letalnice, je pa izjemno dober tudi na skakalnicah tipa K120."
   ]
  },
  {
   "cell_type": "code",
   "execution_count": 62,
   "metadata": {
    "collapsed": false
   },
   "outputs": [],
   "source": [
    "st_tekem_skak = tekme.groupby(['disciplina','mesto'], as_index=False)\n",
    "vec_kot5 = st_tekem_skak.filter(lambda x: len(x)>5)"
   ]
  },
  {
   "cell_type": "code",
   "execution_count": 63,
   "metadata": {
    "collapsed": false
   },
   "outputs": [
    {
     "name": "stdout",
     "output_type": "stream",
     "text": [
      "Povprečna uvrstitev\n",
      "    disciplina      mesto  uvrstitev\n",
      "40  Team HS145  Willingen   5.285714\n",
      "39  Team HS130      Lahti   5.285714\n",
      "32        K120    Sapporo   8.428571\n",
      "6        HS131     Hakuba   9.280000\n",
      "25       HS225  Vikersund   9.750000\n"
     ]
    }
   ],
   "source": [
    "st_vec_kot5=vec_kot5.groupby(['disciplina','mesto'], as_index=False)\n",
    "print(\"Povprečna uvrstitev\")\n",
    "print(st_vec_kot5['uvrstitev'].mean().sort_values(by='uvrstitev').sort_values(by='uvrstitev').head(5))\n"
   ]
  },
  {
   "cell_type": "code",
   "execution_count": 64,
   "metadata": {
    "collapsed": false
   },
   "outputs": [
    {
     "name": "stdout",
     "output_type": "stream",
     "text": [
      "Število stopničk\n",
      "disciplina  mesto                 \n",
      "HS131       Hakuba                    7\n",
      "K120        Innsbruck                 4\n",
      "K115        Garmisch-Partenkirchen    3\n",
      "            Oberstdorf                3\n",
      "HS134       Sapporo                   3\n",
      "dtype: int64\n"
     ]
    }
   ],
   "source": [
    "tekme_stopnicke= tekme[tekme['uvrstitev']<4]\n",
    "stopnicke_disc_mest = tekme_stopnicke.groupby(['disciplina','mesto'], as_index=False)\n",
    "print(\"Število stopničk\")\n",
    "print(stopnicke_disc_mest['uvrstitev'].size().sort_values(ascending=False).head(5))\n"
   ]
  },
  {
   "cell_type": "markdown",
   "metadata": {},
   "source": [
    "Čeprav je iz prejšnjih rezultatov izgledalo, da Kasaiu najbolj ležijo letalnice, mu zelo ustreza skakalnica Hakuba HS131.\n",
    "\n",
    "Opomba:iz retultatov za povprečno uvrstitev, sem pobrisal tiste, ki so bili za skakalnice na katerih je skakal manj kot petkrat.\n",
    "\n",
    "Oglejmo si sedaj ali se je razmerje med dolžino drugega in prvega skoka višalo.\n"
   ]
  },
  {
   "cell_type": "code",
   "execution_count": 65,
   "metadata": {
    "collapsed": false
   },
   "outputs": [
    {
     "data": {
      "text/html": [
       "<div>\n",
       "<table border=\"1\" class=\"dataframe\">\n",
       "  <thead>\n",
       "    <tr style=\"text-align: right;\">\n",
       "      <th></th>\n",
       "      <th>id</th>\n",
       "      <th>prvi_skok</th>\n",
       "      <th>drugi_skok</th>\n",
       "    </tr>\n",
       "  </thead>\n",
       "  <tbody>\n",
       "    <tr>\n",
       "      <th>0</th>\n",
       "      <td>4593</td>\n",
       "      <td>119.0</td>\n",
       "      <td>108.0</td>\n",
       "    </tr>\n",
       "    <tr>\n",
       "      <th>1</th>\n",
       "      <td>4592</td>\n",
       "      <td>126.0</td>\n",
       "      <td>117.0</td>\n",
       "    </tr>\n",
       "    <tr>\n",
       "      <th>3</th>\n",
       "      <td>4461</td>\n",
       "      <td>227.0</td>\n",
       "      <td>231.5</td>\n",
       "    </tr>\n",
       "    <tr>\n",
       "      <th>4</th>\n",
       "      <td>4459</td>\n",
       "      <td>216.5</td>\n",
       "      <td>224.0</td>\n",
       "    </tr>\n",
       "    <tr>\n",
       "      <th>5</th>\n",
       "      <td>4458</td>\n",
       "      <td>225.0</td>\n",
       "      <td>225.0</td>\n",
       "    </tr>\n",
       "    <tr>\n",
       "      <th>6</th>\n",
       "      <td>4456</td>\n",
       "      <td>133.0</td>\n",
       "      <td>125.0</td>\n",
       "    </tr>\n",
       "    <tr>\n",
       "      <th>7</th>\n",
       "      <td>4453</td>\n",
       "      <td>128.5</td>\n",
       "      <td>134.0</td>\n",
       "    </tr>\n",
       "    <tr>\n",
       "      <th>8</th>\n",
       "      <td>4451</td>\n",
       "      <td>136.0</td>\n",
       "      <td>136.0</td>\n",
       "    </tr>\n",
       "    <tr>\n",
       "      <th>9</th>\n",
       "      <td>4449</td>\n",
       "      <td>132.0</td>\n",
       "      <td>128.5</td>\n",
       "    </tr>\n",
       "    <tr>\n",
       "      <th>10</th>\n",
       "      <td>4446</td>\n",
       "      <td>117.0</td>\n",
       "      <td>125.5</td>\n",
       "    </tr>\n",
       "    <tr>\n",
       "      <th>11</th>\n",
       "      <td>4444</td>\n",
       "      <td>94.0</td>\n",
       "      <td>93.0</td>\n",
       "    </tr>\n",
       "    <tr>\n",
       "      <th>12</th>\n",
       "      <td>4402</td>\n",
       "      <td>126.0</td>\n",
       "      <td>121.5</td>\n",
       "    </tr>\n",
       "    <tr>\n",
       "      <th>13</th>\n",
       "      <td>4440</td>\n",
       "      <td>199.0</td>\n",
       "      <td>237.5</td>\n",
       "    </tr>\n",
       "    <tr>\n",
       "      <th>14</th>\n",
       "      <td>4439</td>\n",
       "      <td>219.5</td>\n",
       "      <td>216.0</td>\n",
       "    </tr>\n",
       "    <tr>\n",
       "      <th>15</th>\n",
       "      <td>4435</td>\n",
       "      <td>231.5</td>\n",
       "      <td>230.0</td>\n",
       "    </tr>\n",
       "    <tr>\n",
       "      <th>16</th>\n",
       "      <td>4437</td>\n",
       "      <td>127.0</td>\n",
       "      <td>143.0</td>\n",
       "    </tr>\n",
       "    <tr>\n",
       "      <th>17</th>\n",
       "      <td>4431</td>\n",
       "      <td>138.5</td>\n",
       "      <td>134.0</td>\n",
       "    </tr>\n",
       "    <tr>\n",
       "      <th>18</th>\n",
       "      <td>4430</td>\n",
       "      <td>124.5</td>\n",
       "      <td>133.5</td>\n",
       "    </tr>\n",
       "    <tr>\n",
       "      <th>19</th>\n",
       "      <td>4464</td>\n",
       "      <td>240.5</td>\n",
       "      <td>215.0</td>\n",
       "    </tr>\n",
       "    <tr>\n",
       "      <th>20</th>\n",
       "      <td>4422</td>\n",
       "      <td>129.0</td>\n",
       "      <td>131.0</td>\n",
       "    </tr>\n",
       "    <tr>\n",
       "      <th>22</th>\n",
       "      <td>4420</td>\n",
       "      <td>124.5</td>\n",
       "      <td>119.5</td>\n",
       "    </tr>\n",
       "    <tr>\n",
       "      <th>24</th>\n",
       "      <td>4418</td>\n",
       "      <td>126.5</td>\n",
       "      <td>125.0</td>\n",
       "    </tr>\n",
       "    <tr>\n",
       "      <th>26</th>\n",
       "      <td>4416</td>\n",
       "      <td>127.0</td>\n",
       "      <td>133.5</td>\n",
       "    </tr>\n",
       "    <tr>\n",
       "      <th>28</th>\n",
       "      <td>4414</td>\n",
       "      <td>123.0</td>\n",
       "      <td>129.0</td>\n",
       "    </tr>\n",
       "    <tr>\n",
       "      <th>29</th>\n",
       "      <td>4413</td>\n",
       "      <td>131.5</td>\n",
       "      <td>134.0</td>\n",
       "    </tr>\n",
       "    <tr>\n",
       "      <th>31</th>\n",
       "      <td>4406</td>\n",
       "      <td>92.5</td>\n",
       "      <td>99.0</td>\n",
       "    </tr>\n",
       "    <tr>\n",
       "      <th>33</th>\n",
       "      <td>4399</td>\n",
       "      <td>136.5</td>\n",
       "      <td>139.5</td>\n",
       "    </tr>\n",
       "    <tr>\n",
       "      <th>34</th>\n",
       "      <td>4324</td>\n",
       "      <td>122.5</td>\n",
       "      <td>120.5</td>\n",
       "    </tr>\n",
       "    <tr>\n",
       "      <th>35</th>\n",
       "      <td>4323</td>\n",
       "      <td>126.5</td>\n",
       "      <td>118.5</td>\n",
       "    </tr>\n",
       "    <tr>\n",
       "      <th>36</th>\n",
       "      <td>4193</td>\n",
       "      <td>223.5</td>\n",
       "      <td>229.0</td>\n",
       "    </tr>\n",
       "    <tr>\n",
       "      <th>37</th>\n",
       "      <td>4191</td>\n",
       "      <td>217.0</td>\n",
       "      <td>229.5</td>\n",
       "    </tr>\n",
       "    <tr>\n",
       "      <th>38</th>\n",
       "      <td>4189</td>\n",
       "      <td>128.5</td>\n",
       "      <td>128.5</td>\n",
       "    </tr>\n",
       "    <tr>\n",
       "      <th>39</th>\n",
       "      <td>4188</td>\n",
       "      <td>131.5</td>\n",
       "      <td>133.5</td>\n",
       "    </tr>\n",
       "    <tr>\n",
       "      <th>40</th>\n",
       "      <td>4187</td>\n",
       "      <td>129.5</td>\n",
       "      <td>135.0</td>\n",
       "    </tr>\n",
       "    <tr>\n",
       "      <th>42</th>\n",
       "      <td>4184</td>\n",
       "      <td>124.5</td>\n",
       "      <td>127.5</td>\n",
       "    </tr>\n",
       "    <tr>\n",
       "      <th>43</th>\n",
       "      <td>4124</td>\n",
       "      <td>129.5</td>\n",
       "      <td>119.5</td>\n",
       "    </tr>\n",
       "    <tr>\n",
       "      <th>45</th>\n",
       "      <td>4181</td>\n",
       "      <td>184.0</td>\n",
       "      <td>240.5</td>\n",
       "    </tr>\n",
       "    <tr>\n",
       "      <th>46</th>\n",
       "      <td>4180</td>\n",
       "      <td>218.5</td>\n",
       "      <td>225.0</td>\n",
       "    </tr>\n",
       "    <tr>\n",
       "      <th>47</th>\n",
       "      <td>4178</td>\n",
       "      <td>131.5</td>\n",
       "      <td>127.5</td>\n",
       "    </tr>\n",
       "    <tr>\n",
       "      <th>48</th>\n",
       "      <td>4177</td>\n",
       "      <td>137.5</td>\n",
       "      <td>132.5</td>\n",
       "    </tr>\n",
       "    <tr>\n",
       "      <th>49</th>\n",
       "      <td>4175</td>\n",
       "      <td>135.0</td>\n",
       "      <td>136.0</td>\n",
       "    </tr>\n",
       "    <tr>\n",
       "      <th>50</th>\n",
       "      <td>4173</td>\n",
       "      <td>137.5</td>\n",
       "      <td>135.5</td>\n",
       "    </tr>\n",
       "    <tr>\n",
       "      <th>51</th>\n",
       "      <td>4172</td>\n",
       "      <td>124.0</td>\n",
       "      <td>128.0</td>\n",
       "    </tr>\n",
       "    <tr>\n",
       "      <th>52</th>\n",
       "      <td>4171</td>\n",
       "      <td>128.0</td>\n",
       "      <td>122.5</td>\n",
       "    </tr>\n",
       "    <tr>\n",
       "      <th>53</th>\n",
       "      <td>4169</td>\n",
       "      <td>128.0</td>\n",
       "      <td>124.0</td>\n",
       "    </tr>\n",
       "    <tr>\n",
       "      <th>55</th>\n",
       "      <td>4164</td>\n",
       "      <td>176.5</td>\n",
       "      <td>213.5</td>\n",
       "    </tr>\n",
       "    <tr>\n",
       "      <th>56</th>\n",
       "      <td>4162</td>\n",
       "      <td>132.5</td>\n",
       "      <td>137.0</td>\n",
       "    </tr>\n",
       "    <tr>\n",
       "      <th>58</th>\n",
       "      <td>4160</td>\n",
       "      <td>128.5</td>\n",
       "      <td>132.0</td>\n",
       "    </tr>\n",
       "    <tr>\n",
       "      <th>60</th>\n",
       "      <td>4158</td>\n",
       "      <td>133.5</td>\n",
       "      <td>137.5</td>\n",
       "    </tr>\n",
       "    <tr>\n",
       "      <th>62</th>\n",
       "      <td>4156</td>\n",
       "      <td>137.5</td>\n",
       "      <td>123.0</td>\n",
       "    </tr>\n",
       "    <tr>\n",
       "      <th>...</th>\n",
       "      <td>...</td>\n",
       "      <td>...</td>\n",
       "      <td>...</td>\n",
       "    </tr>\n",
       "    <tr>\n",
       "      <th>432</th>\n",
       "      <td>1340</td>\n",
       "      <td>210.5</td>\n",
       "      <td>197.5</td>\n",
       "    </tr>\n",
       "    <tr>\n",
       "      <th>433</th>\n",
       "      <td>1351</td>\n",
       "      <td>125.5</td>\n",
       "      <td>127.5</td>\n",
       "    </tr>\n",
       "    <tr>\n",
       "      <th>434</th>\n",
       "      <td>1350</td>\n",
       "      <td>127.0</td>\n",
       "      <td>120.0</td>\n",
       "    </tr>\n",
       "    <tr>\n",
       "      <th>436</th>\n",
       "      <td>1439</td>\n",
       "      <td>126.5</td>\n",
       "      <td>129.0</td>\n",
       "    </tr>\n",
       "    <tr>\n",
       "      <th>437</th>\n",
       "      <td>1438</td>\n",
       "      <td>127.0</td>\n",
       "      <td>120.5</td>\n",
       "    </tr>\n",
       "    <tr>\n",
       "      <th>438</th>\n",
       "      <td>1333</td>\n",
       "      <td>116.0</td>\n",
       "      <td>117.5</td>\n",
       "    </tr>\n",
       "    <tr>\n",
       "      <th>439</th>\n",
       "      <td>1332</td>\n",
       "      <td>124.5</td>\n",
       "      <td>131.5</td>\n",
       "    </tr>\n",
       "    <tr>\n",
       "      <th>440</th>\n",
       "      <td>1356</td>\n",
       "      <td>119.5</td>\n",
       "      <td>124.5</td>\n",
       "    </tr>\n",
       "    <tr>\n",
       "      <th>442</th>\n",
       "      <td>1381</td>\n",
       "      <td>125.0</td>\n",
       "      <td>107.0</td>\n",
       "    </tr>\n",
       "    <tr>\n",
       "      <th>444</th>\n",
       "      <td>1362</td>\n",
       "      <td>130.5</td>\n",
       "      <td>110.0</td>\n",
       "    </tr>\n",
       "    <tr>\n",
       "      <th>445</th>\n",
       "      <td>1436</td>\n",
       "      <td>124.5</td>\n",
       "      <td>131.5</td>\n",
       "    </tr>\n",
       "    <tr>\n",
       "      <th>447</th>\n",
       "      <td>1425</td>\n",
       "      <td>123.5</td>\n",
       "      <td>114.5</td>\n",
       "    </tr>\n",
       "    <tr>\n",
       "      <th>448</th>\n",
       "      <td>1473</td>\n",
       "      <td>100.5</td>\n",
       "      <td>99.5</td>\n",
       "    </tr>\n",
       "    <tr>\n",
       "      <th>463</th>\n",
       "      <td>1168</td>\n",
       "      <td>128.0</td>\n",
       "      <td>122.0</td>\n",
       "    </tr>\n",
       "    <tr>\n",
       "      <th>464</th>\n",
       "      <td>1167</td>\n",
       "      <td>124.0</td>\n",
       "      <td>114.5</td>\n",
       "    </tr>\n",
       "    <tr>\n",
       "      <th>475</th>\n",
       "      <td>1154</td>\n",
       "      <td>122.0</td>\n",
       "      <td>99.5</td>\n",
       "    </tr>\n",
       "    <tr>\n",
       "      <th>480</th>\n",
       "      <td>1227</td>\n",
       "      <td>100.5</td>\n",
       "      <td>95.0</td>\n",
       "    </tr>\n",
       "    <tr>\n",
       "      <th>481</th>\n",
       "      <td>1078</td>\n",
       "      <td>107.0</td>\n",
       "      <td>103.5</td>\n",
       "    </tr>\n",
       "    <tr>\n",
       "      <th>482</th>\n",
       "      <td>1075</td>\n",
       "      <td>110.5</td>\n",
       "      <td>105.5</td>\n",
       "    </tr>\n",
       "    <tr>\n",
       "      <th>483</th>\n",
       "      <td>982</td>\n",
       "      <td>112.5</td>\n",
       "      <td>104.0</td>\n",
       "    </tr>\n",
       "    <tr>\n",
       "      <th>486</th>\n",
       "      <td>990</td>\n",
       "      <td>124.0</td>\n",
       "      <td>120.5</td>\n",
       "    </tr>\n",
       "    <tr>\n",
       "      <th>487</th>\n",
       "      <td>989</td>\n",
       "      <td>120.0</td>\n",
       "      <td>116.5</td>\n",
       "    </tr>\n",
       "    <tr>\n",
       "      <th>488</th>\n",
       "      <td>1016</td>\n",
       "      <td>127.5</td>\n",
       "      <td>127.5</td>\n",
       "    </tr>\n",
       "    <tr>\n",
       "      <th>489</th>\n",
       "      <td>1051</td>\n",
       "      <td>117.5</td>\n",
       "      <td>115.5</td>\n",
       "    </tr>\n",
       "    <tr>\n",
       "      <th>490</th>\n",
       "      <td>1050</td>\n",
       "      <td>110.0</td>\n",
       "      <td>112.5</td>\n",
       "    </tr>\n",
       "    <tr>\n",
       "      <th>492</th>\n",
       "      <td>1064</td>\n",
       "      <td>118.5</td>\n",
       "      <td>108.0</td>\n",
       "    </tr>\n",
       "    <tr>\n",
       "      <th>493</th>\n",
       "      <td>1063</td>\n",
       "      <td>121.5</td>\n",
       "      <td>118.5</td>\n",
       "    </tr>\n",
       "    <tr>\n",
       "      <th>494</th>\n",
       "      <td>1047</td>\n",
       "      <td>92.5</td>\n",
       "      <td>89.0</td>\n",
       "    </tr>\n",
       "    <tr>\n",
       "      <th>495</th>\n",
       "      <td>1012</td>\n",
       "      <td>115.5</td>\n",
       "      <td>120.5</td>\n",
       "    </tr>\n",
       "    <tr>\n",
       "      <th>496</th>\n",
       "      <td>1011</td>\n",
       "      <td>123.0</td>\n",
       "      <td>117.0</td>\n",
       "    </tr>\n",
       "    <tr>\n",
       "      <th>497</th>\n",
       "      <td>960</td>\n",
       "      <td>109.5</td>\n",
       "      <td>107.5</td>\n",
       "    </tr>\n",
       "    <tr>\n",
       "      <th>498</th>\n",
       "      <td>959</td>\n",
       "      <td>116.5</td>\n",
       "      <td>108.5</td>\n",
       "    </tr>\n",
       "    <tr>\n",
       "      <th>499</th>\n",
       "      <td>985</td>\n",
       "      <td>109.5</td>\n",
       "      <td>114.5</td>\n",
       "    </tr>\n",
       "    <tr>\n",
       "      <th>500</th>\n",
       "      <td>984</td>\n",
       "      <td>111.0</td>\n",
       "      <td>116.0</td>\n",
       "    </tr>\n",
       "    <tr>\n",
       "      <th>503</th>\n",
       "      <td>1005</td>\n",
       "      <td>96.0</td>\n",
       "      <td>96.0</td>\n",
       "    </tr>\n",
       "    <tr>\n",
       "      <th>508</th>\n",
       "      <td>146</td>\n",
       "      <td>187.0</td>\n",
       "      <td>195.5</td>\n",
       "    </tr>\n",
       "    <tr>\n",
       "      <th>509</th>\n",
       "      <td>145</td>\n",
       "      <td>176.0</td>\n",
       "      <td>167.5</td>\n",
       "    </tr>\n",
       "    <tr>\n",
       "      <th>510</th>\n",
       "      <td>1297</td>\n",
       "      <td>80.5</td>\n",
       "      <td>92.5</td>\n",
       "    </tr>\n",
       "    <tr>\n",
       "      <th>511</th>\n",
       "      <td>1295</td>\n",
       "      <td>111.5</td>\n",
       "      <td>102.5</td>\n",
       "    </tr>\n",
       "    <tr>\n",
       "      <th>512</th>\n",
       "      <td>141</td>\n",
       "      <td>129.0</td>\n",
       "      <td>129.0</td>\n",
       "    </tr>\n",
       "    <tr>\n",
       "      <th>513</th>\n",
       "      <td>140</td>\n",
       "      <td>121.0</td>\n",
       "      <td>131.0</td>\n",
       "    </tr>\n",
       "    <tr>\n",
       "      <th>514</th>\n",
       "      <td>169</td>\n",
       "      <td>125.5</td>\n",
       "      <td>120.0</td>\n",
       "    </tr>\n",
       "    <tr>\n",
       "      <th>515</th>\n",
       "      <td>168</td>\n",
       "      <td>129.5</td>\n",
       "      <td>113.5</td>\n",
       "    </tr>\n",
       "    <tr>\n",
       "      <th>516</th>\n",
       "      <td>162</td>\n",
       "      <td>120.5</td>\n",
       "      <td>123.5</td>\n",
       "    </tr>\n",
       "    <tr>\n",
       "      <th>517</th>\n",
       "      <td>218</td>\n",
       "      <td>107.5</td>\n",
       "      <td>119.5</td>\n",
       "    </tr>\n",
       "    <tr>\n",
       "      <th>518</th>\n",
       "      <td>113</td>\n",
       "      <td>173.0</td>\n",
       "      <td>170.0</td>\n",
       "    </tr>\n",
       "    <tr>\n",
       "      <th>537</th>\n",
       "      <td>1573</td>\n",
       "      <td>110.0</td>\n",
       "      <td>113.0</td>\n",
       "    </tr>\n",
       "    <tr>\n",
       "      <th>538</th>\n",
       "      <td>1540</td>\n",
       "      <td>83.5</td>\n",
       "      <td>94.0</td>\n",
       "    </tr>\n",
       "    <tr>\n",
       "      <th>636</th>\n",
       "      <td>329</td>\n",
       "      <td>162.0</td>\n",
       "      <td>179.0</td>\n",
       "    </tr>\n",
       "    <tr>\n",
       "      <th>638</th>\n",
       "      <td>1321</td>\n",
       "      <td>158.0</td>\n",
       "      <td>163.0</td>\n",
       "    </tr>\n",
       "  </tbody>\n",
       "</table>\n",
       "<p>296 rows × 3 columns</p>\n",
       "</div>"
      ],
      "text/plain": [
       "       id  prvi_skok  drugi_skok\n",
       "0    4593      119.0       108.0\n",
       "1    4592      126.0       117.0\n",
       "3    4461      227.0       231.5\n",
       "4    4459      216.5       224.0\n",
       "5    4458      225.0       225.0\n",
       "6    4456      133.0       125.0\n",
       "7    4453      128.5       134.0\n",
       "8    4451      136.0       136.0\n",
       "9    4449      132.0       128.5\n",
       "10   4446      117.0       125.5\n",
       "11   4444       94.0        93.0\n",
       "12   4402      126.0       121.5\n",
       "13   4440      199.0       237.5\n",
       "14   4439      219.5       216.0\n",
       "15   4435      231.5       230.0\n",
       "16   4437      127.0       143.0\n",
       "17   4431      138.5       134.0\n",
       "18   4430      124.5       133.5\n",
       "19   4464      240.5       215.0\n",
       "20   4422      129.0       131.0\n",
       "22   4420      124.5       119.5\n",
       "24   4418      126.5       125.0\n",
       "26   4416      127.0       133.5\n",
       "28   4414      123.0       129.0\n",
       "29   4413      131.5       134.0\n",
       "31   4406       92.5        99.0\n",
       "33   4399      136.5       139.5\n",
       "34   4324      122.5       120.5\n",
       "35   4323      126.5       118.5\n",
       "36   4193      223.5       229.0\n",
       "37   4191      217.0       229.5\n",
       "38   4189      128.5       128.5\n",
       "39   4188      131.5       133.5\n",
       "40   4187      129.5       135.0\n",
       "42   4184      124.5       127.5\n",
       "43   4124      129.5       119.5\n",
       "45   4181      184.0       240.5\n",
       "46   4180      218.5       225.0\n",
       "47   4178      131.5       127.5\n",
       "48   4177      137.5       132.5\n",
       "49   4175      135.0       136.0\n",
       "50   4173      137.5       135.5\n",
       "51   4172      124.0       128.0\n",
       "52   4171      128.0       122.5\n",
       "53   4169      128.0       124.0\n",
       "55   4164      176.5       213.5\n",
       "56   4162      132.5       137.0\n",
       "58   4160      128.5       132.0\n",
       "60   4158      133.5       137.5\n",
       "62   4156      137.5       123.0\n",
       "..    ...        ...         ...\n",
       "432  1340      210.5       197.5\n",
       "433  1351      125.5       127.5\n",
       "434  1350      127.0       120.0\n",
       "436  1439      126.5       129.0\n",
       "437  1438      127.0       120.5\n",
       "438  1333      116.0       117.5\n",
       "439  1332      124.5       131.5\n",
       "440  1356      119.5       124.5\n",
       "442  1381      125.0       107.0\n",
       "444  1362      130.5       110.0\n",
       "445  1436      124.5       131.5\n",
       "447  1425      123.5       114.5\n",
       "448  1473      100.5        99.5\n",
       "463  1168      128.0       122.0\n",
       "464  1167      124.0       114.5\n",
       "475  1154      122.0        99.5\n",
       "480  1227      100.5        95.0\n",
       "481  1078      107.0       103.5\n",
       "482  1075      110.5       105.5\n",
       "483   982      112.5       104.0\n",
       "486   990      124.0       120.5\n",
       "487   989      120.0       116.5\n",
       "488  1016      127.5       127.5\n",
       "489  1051      117.5       115.5\n",
       "490  1050      110.0       112.5\n",
       "492  1064      118.5       108.0\n",
       "493  1063      121.5       118.5\n",
       "494  1047       92.5        89.0\n",
       "495  1012      115.5       120.5\n",
       "496  1011      123.0       117.0\n",
       "497   960      109.5       107.5\n",
       "498   959      116.5       108.5\n",
       "499   985      109.5       114.5\n",
       "500   984      111.0       116.0\n",
       "503  1005       96.0        96.0\n",
       "508   146      187.0       195.5\n",
       "509   145      176.0       167.5\n",
       "510  1297       80.5        92.5\n",
       "511  1295      111.5       102.5\n",
       "512   141      129.0       129.0\n",
       "513   140      121.0       131.0\n",
       "514   169      125.5       120.0\n",
       "515   168      129.5       113.5\n",
       "516   162      120.5       123.5\n",
       "517   218      107.5       119.5\n",
       "518   113      173.0       170.0\n",
       "537  1573      110.0       113.0\n",
       "538  1540       83.5        94.0\n",
       "636   329      162.0       179.0\n",
       "638  1321      158.0       163.0\n",
       "\n",
       "[296 rows x 3 columns]"
      ]
     },
     "execution_count": 65,
     "metadata": {},
     "output_type": "execute_result"
    }
   ],
   "source": [
    "skoki\n",
    "skokinan=skoki.groupby('drugi_skok')\n",
    "skoki_razmerje = skoki[skoki.drugi_skok.notnull()]\n",
    "skoki_razmerje"
   ]
  },
  {
   "cell_type": "code",
   "execution_count": 66,
   "metadata": {
    "collapsed": false
   },
   "outputs": [],
   "source": [
    "skoki_razmerje['razmerje'] = skoki_razmerje['drugi_skok']/skoki_razmerje['prvi_skok']"
   ]
  },
  {
   "cell_type": "code",
   "execution_count": 68,
   "metadata": {
    "collapsed": false
   },
   "outputs": [],
   "source": [
    "raz_skok_let = pd.merge(skoki_razmerje,tekme)\n",
    "raz_skok_let['leto'] = raz_skok_let['datum'].apply(leto)"
   ]
  },
  {
   "cell_type": "code",
   "execution_count": 71,
   "metadata": {
    "collapsed": false
   },
   "outputs": [
    {
     "data": {
      "text/plain": [
       "leto\n",
       "1996    10.682919\n",
       "2000    10.765106\n",
       "2001     9.974813\n",
       "2002     9.555646\n",
       "2003     9.607656\n",
       "2004     9.894106\n",
       "2005    10.179148\n",
       "2006     9.854100\n",
       "2007    10.008880\n",
       "2008     9.667432\n",
       "2009     9.768456\n",
       "2010    10.032823\n",
       "2011     9.750257\n",
       "2012     9.753439\n",
       "2013    10.062274\n",
       "2014    10.007406\n",
       "2015    10.274129\n",
       "2016    10.030598\n",
       "Name: razmerje, dtype: float64"
      ]
     },
     "execution_count": 71,
     "metadata": {},
     "output_type": "execute_result"
    }
   ],
   "source": [
    "raz_skok_let.groupby('leto')['razmerje'].mean()"
   ]
  },
  {
   "cell_type": "code",
   "execution_count": null,
   "metadata": {
    "collapsed": true
   },
   "outputs": [],
   "source": []
  }
 ],
 "metadata": {
  "anaconda-cloud": {},
  "kernelspec": {
   "display_name": "Python [Root]",
   "language": "python",
   "name": "Python [Root]"
  },
  "language_info": {
   "codemirror_mode": {
    "name": "ipython",
    "version": 3
   },
   "file_extension": ".py",
   "mimetype": "text/x-python",
   "name": "python",
   "nbconvert_exporter": "python",
   "pygments_lexer": "ipython3",
   "version": "3.5.2"
  }
 },
 "nbformat": 4,
 "nbformat_minor": 0
}
